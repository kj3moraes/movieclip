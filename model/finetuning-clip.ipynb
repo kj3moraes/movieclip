{
 "cells": [
  {
   "cell_type": "markdown",
   "id": "0827edca-2cad-4957-9415-6a1b02f02269",
   "metadata": {},
   "source": [
    "# Fine-tuning CLIP"
   ]
  },
  {
   "cell_type": "markdown",
   "id": "a541a8e6-fe79-4762-bf4a-d73df65b5799",
   "metadata": {},
   "source": [
    "This notebook is for fine-tuning CLIP on the Moviescene dataset. "
   ]
  },
  {
   "cell_type": "code",
   "execution_count": 3,
   "id": "275b89cd-9219-4a66-a0c3-3f4d5fa8c642",
   "metadata": {},
   "outputs": [],
   "source": [
    "# Machine Learning\n",
    "import torch\n",
    "from torch import nn\n",
    "from torch import optim\n",
    "from torch.utils.data import DataLoader\n",
    "from torchvision import transforms, models\n",
    "from torchvision.transforms.functional import to_pil_image, resize\n",
    "\n",
    "import numpy as np\n",
    "\n",
    "# Image viewing\n",
    "from matplotlib import pyplot as plt\n",
    "from PIL import Image\n",
    "import cv2\n",
    "\n",
    "# Misc\n",
    "from pathlib import Path\n",
    "import os\n",
    "from tqdm import tqdm"
   ]
  },
  {
   "cell_type": "code",
   "execution_count": null,
   "id": "cde2a717",
   "metadata": {},
   "outputs": [],
   "source": [
    "# IMPORTANT CONSTANTS \n"
   ]
  },
  {
   "cell_type": "markdown",
   "id": "0eb27acf-26c0-4b99-a6bc-c913d9cffcf3",
   "metadata": {},
   "source": [
    "## Data Generation"
   ]
  },
  {
   "cell_type": "code",
   "execution_count": null,
   "id": "705261e1",
   "metadata": {},
   "outputs": [],
   "source": []
  },
  {
   "cell_type": "code",
   "execution_count": null,
   "id": "87bd136e",
   "metadata": {},
   "outputs": [],
   "source": []
  },
  {
   "cell_type": "markdown",
   "id": "5b4baeb9",
   "metadata": {},
   "source": [
    "## Training Run"
   ]
  },
  {
   "cell_type": "code",
   "execution_count": null,
   "id": "3ddcce7e",
   "metadata": {},
   "outputs": [],
   "source": []
  }
 ],
 "metadata": {
  "kernelspec": {
   "display_name": "Python 3 (ipykernel)",
   "language": "python",
   "name": "python3"
  },
  "language_info": {
   "codemirror_mode": {
    "name": "ipython",
    "version": 3
   },
   "file_extension": ".py",
   "mimetype": "text/x-python",
   "name": "python",
   "nbconvert_exporter": "python",
   "pygments_lexer": "ipython3",
   "version": "3.11.2"
  }
 },
 "nbformat": 4,
 "nbformat_minor": 5
}
